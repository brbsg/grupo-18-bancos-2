{
 "cells": [
  {
   "cell_type": "markdown",
   "id": "6c1c024c",
   "metadata": {},
   "source": [
    "# Leitura do CSV (Bronze)"
   ]
  },
  {
   "cell_type": "code",
   "execution_count": null,
   "id": "c9b1e333",
   "metadata": {
    "vscode": {
     "languageId": "plaintext"
    }
   },
   "outputs": [],
   "source": [
    "from pyspark.sql import SparkSession\n",
    "spark = SparkSession.builder.appName(\"inep\").getOrCreate()\n",
    "\n",
    "df_bronze = spark.read.option(\"header\",True).option(\"encoding\",\"utf-8\").csv(\"escolas_inep.csv\")\n",
    "df_bronze.printSchema()\n",
    "df_bronze.show(5)\n",
    "\n",
    "df_bronze.write.mode(\"overwrite\").parquet(\"data/processed/bronze_escolas.parquet\")\n"
   ]
  }
 ],
 "metadata": {
  "language_info": {
   "name": "python"
  }
 },
 "nbformat": 4,
 "nbformat_minor": 5
}
