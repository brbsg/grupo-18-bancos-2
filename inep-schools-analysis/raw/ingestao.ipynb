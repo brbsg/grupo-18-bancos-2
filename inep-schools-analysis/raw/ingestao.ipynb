{
 "cells": [
  {
   "cell_type": "markdown",
   "id": "6c1c024c",
   "metadata": {},
   "source": [
    "# Ingestão de Dados (Bronze Layer)\n",
    "\n",
    "## Objetivos\n",
    "- Carregar dados brutos do CSV do INEP\n",
    "- Verificar estrutura e qualidade dos dados\n",
    "- Converter para formato Parquet para melhor performance\n",
    "- Preparar dados para processamento no Silver Layer\n",
    "\n",
    "## Estrutura dos Dados Originais\n",
    "O arquivo `escolas_inep.csv` contém informações sobre escolas brasileiras do INEP com 19 colunas principais:\n",
    "- Informações geográficas (UF, Município, Localização, Latitude, Longitude)\n",
    "- Características administrativas (Dependência, Categoria, Porte)\n",
    "- Informações educacionais (Etapas de Ensino, Modalidades)\n",
    "- Status operacional (Restrição de Atendimento, Regulamentação)"
   ]
  },
  {
   "cell_type": "code",
   "execution_count": 2,
   "id": "c9b1e333",
   "metadata": {},
   "outputs": [
    {
     "name": "stdout",
     "output_type": "stream",
     "text": [
      "=== INICIANDO INGESTÃO DOS DADOS BRUTOS ===\n"
     ]
    },
    {
     "name": "stderr",
     "output_type": "stream",
     "text": [
      "                                                                                \r"
     ]
    },
    {
     "name": "stdout",
     "output_type": "stream",
     "text": [
      "✅ Dados carregados com sucesso!\n"
     ]
    },
    {
     "name": "stderr",
     "output_type": "stream",
     "text": [
      "                                                                                \r"
     ]
    },
    {
     "name": "stdout",
     "output_type": "stream",
     "text": [
      "📊 Total de registros: 212,386\n",
      "📋 Total de colunas: 19\n",
      "\n",
      "=== SCHEMA DOS DADOS ===\n",
      "root\n",
      " |-- Restrição de Atendimento: string (nullable = true)\n",
      " |-- Escola: string (nullable = true)\n",
      " |-- Código INEP: string (nullable = true)\n",
      " |-- UF: string (nullable = true)\n",
      " |-- Município: string (nullable = true)\n",
      " |-- Localização: string (nullable = true)\n",
      " |-- Localidade Diferenciada: string (nullable = true)\n",
      " |-- Categoria Administrativa: string (nullable = true)\n",
      " |-- Endereço: string (nullable = true)\n",
      " |-- Telefone: string (nullable = true)\n",
      " |-- Dependência Administrativa: string (nullable = true)\n",
      " |-- Categoria Escola Privada: string (nullable = true)\n",
      " |-- Conveniada Poder Público: string (nullable = true)\n",
      " |-- Regulamentação pelo Conselho de Educação: string (nullable = true)\n",
      " |-- Porte da Escola: string (nullable = true)\n",
      " |-- Etapas e Modalidade de Ensino Oferecidas: string (nullable = true)\n",
      " |-- Outras Ofertas Educacionais: string (nullable = true)\n",
      " |-- Latitude: string (nullable = true)\n",
      " |-- Longitude: string (nullable = true)\n",
      "\n",
      "\n",
      "=== PRIMEIRAS 5 LINHAS ===\n",
      "+------------------------------------------------------+-----------------------------------------------+-----------+---+-----------+-----------+-----------------------------------------------------+------------------------+--------------------------------------------------------------------------+--------------+--------------------------+------------------------+------------------------+----------------------------------------+--------------------------------------------+---------------------------------------------------+-------------------------------------+-----------+------------+\n",
      "|Restrição de Atendimento                              |Escola                                         |Código INEP|UF |Município  |Localização|Localidade Diferenciada                              |Categoria Administrativa|Endereço                                                                  |Telefone      |Dependência Administrativa|Categoria Escola Privada|Conveniada Poder Público|Regulamentação pelo Conselho de Educação|Porte da Escola                             |Etapas e Modalidade de Ensino Oferecidas           |Outras Ofertas Educacionais          |Latitude   |Longitude   |\n",
      "+------------------------------------------------------+-----------------------------------------------+-----------+---+-----------+-----------+-----------------------------------------------------+------------------------+--------------------------------------------------------------------------+--------------+--------------------------+------------------------+------------------------+----------------------------------------+--------------------------------------------+---------------------------------------------------+-------------------------------------+-----------+------------+\n",
      "|ESCOLA ATENDE EXCLUSIVAMENTE ALUNOS COM DEFICIÊNCIA   |EEEE ABNAEL MACHADO DE LIMA - CENE             |11000023   |RO |Porto Velho|Urbana     |A escola não está em área de localização diferenciada|Pública                 |AVENIDA AMAZONAS, 6492 ZONA LESTE. TIRADENTES. 76824-556 Porto Velho - RO.|(69) 992222374|Estadual                  |Não Informado           |Não                     |Não                                     |Entre 51 e 200 matrículas de escolarização  |Ensino Fundamental                                 |Atendimento Educacional Especializado|-8.758459  |-63.8540109 |\n",
      "|ESCOLA EM FUNCIONAMENTO E SEM RESTRIÇÃO DE ATENDIMENTO|EMEIEF PEQUENOS TALENTOS                       |11000040   |RO |Porto Velho|Urbana     |A escola não está em área de localização diferenciada|Pública                 |RUA CAETANO, 3256 PREDIO. CALADINHO. 76808-108 Porto Velho - RO.          |(69) 32274273 |Municipal                 |Não Informado           |Não                     |Sim                                     |Entre 201 e 500 matrículas de escolarização |Educação Infantil                                  |Atendimento Educacional Especializado|-8.79373016|-63.88391863|\n",
      "|ESCOLA EM FUNCIONAMENTO E SEM RESTRIÇÃO DE ATENDIMENTO|CENTRO DE ENSINO CLASSE A                      |11000058   |RO |Porto Velho|Urbana     |A escola não está em área de localização diferenciada|Privada                 |AVENIDA CARLOS GOMES, 1135 CENTRO. 76801-123 Porto Velho - RO.            |(69) 32244473 |Privada                   |Particular              |Não                     |Sim                                     |Mais de 1000 matrículas de escolarização    |Educação Infantil, Ensino Fundamental, Ensino Médio|NULL                                 |-8.7607343 |-63.9019859 |\n",
      "|ESCOLA EM FUNCIONAMENTO E SEM RESTRIÇÃO DE ATENDIMENTO|CENTRO EDUCACIONAL PRESBITERIANO 15 DE NOVEMBRO|11000082   |RO |Porto Velho|Urbana     |A escola não está em área de localização diferenciada|Privada                 |RUA ALMIRANTE BARROSO, 1483 SANTA BARBARA. 76804-214 Porto Velho - RO.    |(69) 32245636 |Privada                   |Particular              |Não                     |Sim                                     |Entre 51 e 200 matrículas de escolarização  |Educação Infantil, Ensino Fundamental              |NULL                                 |-8.765205  |-63.8961767 |\n",
      "|ESCOLA EM FUNCIONAMENTO E SEM RESTRIÇÃO DE ATENDIMENTO|CENTRO EDUC CORA CORALINA                      |11000104   |RO |Porto Velho|Urbana     |A escola não está em área de localização diferenciada|Privada                 |RUA MEXICO, 1056 NOVA PORTO VELHO. 76820-190 Porto Velho - RO.            |(69) 32252616 |Privada                   |Particular              |Não                     |Sim                                     |Entre 501 e 1000 matrículas de escolarização|Educação Infantil, Ensino Fundamental              |NULL                                 |-8.7686325 |-63.8754712 |\n",
      "+------------------------------------------------------+-----------------------------------------------+-----------+---+-----------+-----------+-----------------------------------------------------+------------------------+--------------------------------------------------------------------------+--------------+--------------------------+------------------------+------------------------+----------------------------------------+--------------------------------------------+---------------------------------------------------+-------------------------------------+-----------+------------+\n",
      "only showing top 5 rows\n",
      "\n",
      "=== ANÁLISE DE VALORES NULOS ===\n"
     ]
    },
    {
     "name": "stderr",
     "output_type": "stream",
     "text": [
      "                                                                                \r"
     ]
    },
    {
     "name": "stdout",
     "output_type": "stream",
     "text": [
      "   Telefone: 42,433 valores nulos/vazios (20.0%)\n",
      "   Regulamentação pelo Conselho de Educação: 31,321 valores nulos/vazios (14.7%)\n",
      "   Porte da Escola: 31,321 valores nulos/vazios (14.7%)\n",
      "   Etapas e Modalidade de Ensino Oferecidas: 33,163 valores nulos/vazios (15.6%)\n",
      "   Outras Ofertas Educacionais: 153,326 valores nulos/vazios (72.2%)\n",
      "\n",
      "=== SALVANDO DADOS BRONZE ===\n"
     ]
    },
    {
     "name": "stderr",
     "output_type": "stream",
     "text": [
      "25/09/29 20:25:23 WARN MemoryManager: Total allocation exceeds 95,00% (1.020.054.720 bytes) of heap memory\n",
      "Scaling row group sizes to 95,00% for 8 writers\n",
      "                                                                                \r"
     ]
    },
    {
     "name": "stdout",
     "output_type": "stream",
     "text": [
      "✅ Dados salvos com sucesso em: bronze_escolas.parquet\n",
      "📁 Arquivo pronto para processamento no Silver Layer!\n",
      "💾 Tamanho estimado: 192.4 MB\n"
     ]
    }
   ],
   "source": [
    "# === CONFIGURAÇÃO E CARREGAMENTO DOS DADOS BRUTOS ===\n",
    "\n",
    "from pyspark.sql import SparkSession\n",
    "from pyspark.sql.functions import col, count, isnan, when\n",
    "import pyspark.sql.functions as F\n",
    "\n",
    "# Inicializar Spark Session\n",
    "spark = SparkSession.builder.appName(\"inep_ingestion\").getOrCreate()\n",
    "\n",
    "print(\"=== INICIANDO INGESTÃO DOS DADOS BRUTOS ===\")\n",
    "\n",
    "# Carregar dados brutos do CSV\n",
    "df_bronze = spark.read.option(\"header\", True).option(\"encoding\", \"utf-8\").csv(\"escolas_inep.csv\")\n",
    "\n",
    "print(f\"✅ Dados carregados com sucesso!\")\n",
    "print(f\"📊 Total de registros: {df_bronze.count():,}\")\n",
    "print(f\"📋 Total de colunas: {len(df_bronze.columns)}\")\n",
    "\n",
    "# Verificar schema\n",
    "print(\"\\n=== SCHEMA DOS DADOS ===\")\n",
    "df_bronze.printSchema()\n",
    "\n",
    "# Mostrar primeiras linhas\n",
    "print(\"\\n=== PRIMEIRAS 5 LINHAS ===\")\n",
    "df_bronze.show(5, truncate=False)\n",
    "\n",
    "# Verificar valores nulos por coluna\n",
    "print(\"\\n=== ANÁLISE DE VALORES NULOS ===\")\n",
    "null_counts = df_bronze.select([F.count(F.when(F.col(c).isNull() | (F.col(c) == \"\"), c)).alias(c) for c in df_bronze.columns]).collect()[0]\n",
    "\n",
    "for col_name in df_bronze.columns:\n",
    "    null_count = null_counts[col_name]\n",
    "    if null_count > 0:\n",
    "        pct = (null_count / df_bronze.count()) * 100\n",
    "        print(f\"   {col_name}: {null_count:,} valores nulos/vazios ({pct:.1f}%)\")\n",
    "\n",
    "# Salvar dados bronze em formato Parquet\n",
    "print(\"\\n=== SALVANDO DADOS BRONZE ===\")\n",
    "df_bronze.write.mode(\"overwrite\").parquet(\"bronze_escolas.parquet\")\n",
    "\n",
    "print(\"✅ Dados salvos com sucesso em: bronze_escolas.parquet\")\n",
    "print(\"📁 Arquivo pronto para processamento no Silver Layer!\")\n",
    "print(f\"💾 Tamanho estimado: {df_bronze.count() * len(df_bronze.columns) * 50 / 1024 / 1024:.1f} MB\")\n"
   ]
  },
  {
   "cell_type": "markdown",
   "id": "2c94b6d5",
   "metadata": {},
   "source": [
    "## 📊 Estatísticas da Ingestão\n",
    "- **Total de registros**: ~212.000 escolas\n",
    "- **Total de colunas**: 19 campos\n",
    "- **Formato de saída**: Parquet (otimizado para Spark)\n",
    "- **Próximo processamento**: Limpeza e padronização no Silver Layer\n"
   ]
  }
 ],
 "metadata": {
  "kernelspec": {
   "display_name": "venv_inep",
   "language": "python",
   "name": "python3"
  },
  "language_info": {
   "codemirror_mode": {
    "name": "ipython",
    "version": 3
   },
   "file_extension": ".py",
   "mimetype": "text/x-python",
   "name": "python",
   "nbconvert_exporter": "python",
   "pygments_lexer": "ipython3",
   "version": "3.12.3"
  }
 },
 "nbformat": 4,
 "nbformat_minor": 5
}
