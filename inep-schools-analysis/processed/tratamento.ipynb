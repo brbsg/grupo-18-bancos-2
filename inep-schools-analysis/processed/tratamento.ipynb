{
 "cells": [
  {
   "cell_type": "markdown",
   "id": "9e44f002",
   "metadata": {},
   "source": [
    "# Tratamento dos Dados (Silver)\n",
    "\n",
    "## Objetivos\n",
    "- Padronizar nomes das colunas para snake_case\n",
    "- Tratar valores nulos e inconsistentes\n",
    "- Converter tipos de dados apropriadamente\n",
    "- Extrair colunas úteis para análises gráficas\n",
    "- Preparar dados para visualizações (pizza, regressão linear, boxplot)\n",
    "\n",
    "## Estrutura dos Dados Originais\n",
    "O dataset contém informações sobre escolas brasileiras do INEP com 19 colunas principais:\n",
    "- Informações geográficas (UF, Município, Localização, Latitude, Longitude)\n",
    "- Características administrativas (Dependência, Categoria, Porte)\n",
    "- Informações educacionais (Etapas de Ensino, Modalidades)\n",
    "- Status operacional (Restrição de Atendimento, Regulamentação)"
   ]
  },
  {
   "cell_type": "code",
   "execution_count": 2,
   "id": "cce369e5",
   "metadata": {},
   "outputs": [
    {
     "name": "stderr",
     "output_type": "stream",
     "text": [
      "                                                                                \r"
     ]
    },
    {
     "name": "stdout",
     "output_type": "stream",
     "text": [
      "=== ESTRUTURA INICIAL DOS DADOS ===\n"
     ]
    },
    {
     "name": "stderr",
     "output_type": "stream",
     "text": [
      "[Stage 1:>                                                          (0 + 8) / 8]\r"
     ]
    },
    {
     "name": "stdout",
     "output_type": "stream",
     "text": [
      "Total de registros: 212,386\n",
      "Número de colunas: 19\n",
      "root\n",
      " |-- Restrição de Atendimento: string (nullable = true)\n",
      " |-- Escola: string (nullable = true)\n",
      " |-- Código INEP: string (nullable = true)\n",
      " |-- UF: string (nullable = true)\n",
      " |-- Município: string (nullable = true)\n",
      " |-- Localização: string (nullable = true)\n",
      " |-- Localidade Diferenciada: string (nullable = true)\n",
      " |-- Categoria Administrativa: string (nullable = true)\n",
      " |-- Endereço: string (nullable = true)\n",
      " |-- Telefone: string (nullable = true)\n",
      " |-- Dependência Administrativa: string (nullable = true)\n",
      " |-- Categoria Escola Privada: string (nullable = true)\n",
      " |-- Conveniada Poder Público: string (nullable = true)\n",
      " |-- Regulamentação pelo Conselho de Educação: string (nullable = true)\n",
      " |-- Porte da Escola: string (nullable = true)\n",
      " |-- Etapas e Modalidade de Ensino Oferecidas: string (nullable = true)\n",
      " |-- Outras Ofertas Educacionais: string (nullable = true)\n",
      " |-- Latitude: string (nullable = true)\n",
      " |-- Longitude: string (nullable = true)\n",
      "\n"
     ]
    },
    {
     "name": "stderr",
     "output_type": "stream",
     "text": [
      "                                                                                \r"
     ]
    }
   ],
   "source": [
    "from pyspark.sql import SparkSession\n",
    "from pyspark.sql.functions import col, trim, when, split, size, coalesce, lit, regexp_replace, lower, regexp_extract\n",
    "from pyspark.sql.types import IntegerType, DoubleType, StringType\n",
    "import pyspark.sql.functions as F\n",
    "\n",
    "# Inicializar Spark Session\n",
    "spark = SparkSession.builder.appName(\"inep_schools_analysis\").getOrCreate()\n",
    "\n",
    "# Carregar dados bronze\n",
    "df = spark.read.parquet(\"../raw/bronze_escolas.parquet\")\n",
    "\n",
    "print(\"=== ESTRUTURA INICIAL DOS DADOS ===\")\n",
    "print(f\"Total de registros: {df.count():,}\")\n",
    "print(f\"Número de colunas: {len(df.columns)}\")\n",
    "df.printSchema()\n"
   ]
  },
  {
   "cell_type": "code",
   "execution_count": 3,
   "id": "cda72bbd",
   "metadata": {},
   "outputs": [
    {
     "name": "stdout",
     "output_type": "stream",
     "text": [
      "=== ANÁLISE DE VALORES NULOS ===\n"
     ]
    },
    {
     "name": "stderr",
     "output_type": "stream",
     "text": [
      "                                                                                \r"
     ]
    },
    {
     "name": "stdout",
     "output_type": "stream",
     "text": [
      "Telefone: 42,433 valores nulos/vazios\n",
      "Regulamentação pelo Conselho de Educação: 31,321 valores nulos/vazios\n",
      "Porte da Escola: 31,321 valores nulos/vazios\n",
      "Etapas e Modalidade de Ensino Oferecidas: 33,163 valores nulos/vazios\n",
      "Outras Ofertas Educacionais: 153,326 valores nulos/vazios\n",
      "\n",
      "=== COLUNAS RENOMEADAS PARA SNAKE_CASE ===\n",
      "root\n",
      " |-- restricao_atendimento: string (nullable = true)\n",
      " |-- nome_escola: string (nullable = true)\n",
      " |-- codigo_inep: string (nullable = true)\n",
      " |-- uf: string (nullable = true)\n",
      " |-- municipio: string (nullable = true)\n",
      " |-- localizacao: string (nullable = true)\n",
      " |-- localidade_diferenciada: string (nullable = true)\n",
      " |-- categoria_administrativa: string (nullable = true)\n",
      " |-- endereco: string (nullable = true)\n",
      " |-- telefone: string (nullable = true)\n",
      " |-- dependencia_administrativa: string (nullable = true)\n",
      " |-- categoria_escola_privada: string (nullable = true)\n",
      " |-- conveniada_poder_publico: string (nullable = true)\n",
      " |-- regulamentacao_conselho: string (nullable = true)\n",
      " |-- porte_escola: string (nullable = true)\n",
      " |-- etapas_modalidades: string (nullable = true)\n",
      " |-- outras_ofertas: string (nullable = true)\n",
      " |-- latitude: string (nullable = true)\n",
      " |-- longitude: string (nullable = true)\n",
      "\n"
     ]
    }
   ],
   "source": [
    "# === LIMPEZA E PADRONIZAÇÃO DOS DADOS ===\n",
    "\n",
    "print(\"=== ANÁLISE DE VALORES NULOS ===\")\n",
    "# Verificar valores nulos por coluna\n",
    "null_counts = df.select([F.count(F.when(F.col(c).isNull() | (F.col(c) == \"\"), c)).alias(c) for c in df.columns]).collect()[0]\n",
    "for col_name in df.columns:\n",
    "    null_count = null_counts[col_name]\n",
    "    if null_count > 0:\n",
    "        print(f\"{col_name}: {null_count:,} valores nulos/vazios\")\n",
    "\n",
    "# Renomear colunas para snake_case\n",
    "df_clean = df.withColumnRenamed(\"Restrição de Atendimento\", \"restricao_atendimento\") \\\n",
    "             .withColumnRenamed(\"Escola\", \"nome_escola\") \\\n",
    "             .withColumnRenamed(\"Código INEP\", \"codigo_inep\") \\\n",
    "             .withColumnRenamed(\"UF\", \"uf\") \\\n",
    "             .withColumnRenamed(\"Município\", \"municipio\") \\\n",
    "             .withColumnRenamed(\"Localização\", \"localizacao\") \\\n",
    "             .withColumnRenamed(\"Localidade Diferenciada\", \"localidade_diferenciada\") \\\n",
    "             .withColumnRenamed(\"Categoria Administrativa\", \"categoria_administrativa\") \\\n",
    "             .withColumnRenamed(\"Endereço\", \"endereco\") \\\n",
    "             .withColumnRenamed(\"Telefone\", \"telefone\") \\\n",
    "             .withColumnRenamed(\"Dependência Administrativa\", \"dependencia_administrativa\") \\\n",
    "             .withColumnRenamed(\"Categoria Escola Privada\", \"categoria_escola_privada\") \\\n",
    "             .withColumnRenamed(\"Conveniada Poder Público\", \"conveniada_poder_publico\") \\\n",
    "             .withColumnRenamed(\"Regulamentação pelo Conselho de Educação\", \"regulamentacao_conselho\") \\\n",
    "             .withColumnRenamed(\"Porte da Escola\", \"porte_escola\") \\\n",
    "             .withColumnRenamed(\"Etapas e Modalidade de Ensino Oferecidas\", \"etapas_modalidades\") \\\n",
    "             .withColumnRenamed(\"Outras Ofertas Educacionais\", \"outras_ofertas\") \\\n",
    "             .withColumnRenamed(\"Latitude\", \"latitude\") \\\n",
    "             .withColumnRenamed(\"Longitude\", \"longitude\")\n",
    "\n",
    "print(\"\\n=== COLUNAS RENOMEADAS PARA SNAKE_CASE ===\")\n",
    "df_clean.printSchema()\n"
   ]
  },
  {
   "cell_type": "code",
   "execution_count": 4,
   "id": "f331cb6a",
   "metadata": {},
   "outputs": [
    {
     "name": "stdout",
     "output_type": "stream",
     "text": [
      "=== DADOS APÓS LIMPEZA ===\n"
     ]
    },
    {
     "name": "stderr",
     "output_type": "stream",
     "text": [
      "                                                                                \r"
     ]
    },
    {
     "name": "stdout",
     "output_type": "stream",
     "text": [
      "Registros válidos: 156,423\n",
      "Registros removidos: 55,963\n"
     ]
    }
   ],
   "source": [
    "# === CONVERSÃO DE TIPOS E TRATAMENTO DE VALORES NULOS ===\n",
    "\n",
    "# Converter coordenadas para double, tratando valores inválidos\n",
    "df_clean = df_clean.withColumn(\"latitude\", \n",
    "    when(col(\"latitude\").rlike(\"^-?\\\\d+\\\\.?\\\\d*$\"), col(\"latitude\").cast(DoubleType()))\n",
    "    .otherwise(None)\n",
    ").withColumn(\"longitude\", \n",
    "    when(col(\"longitude\").rlike(\"^-?\\\\d+\\\\.?\\\\d*$\"), col(\"longitude\").cast(DoubleType()))\n",
    "    .otherwise(None)\n",
    ")\n",
    "\n",
    "# Limpar strings removendo espaços extras e normalizando\n",
    "string_columns = [\"restricao_atendimento\", \"nome_escola\", \"uf\", \"municipio\", \n",
    "                 \"localizacao\", \"categoria_administrativa\", \"dependencia_administrativa\",\n",
    "                 \"porte_escola\", \"etapas_modalidades\"]\n",
    "\n",
    "for col_name in string_columns:\n",
    "    df_clean = df_clean.withColumn(col_name, trim(col(col_name)))\n",
    "\n",
    "# Tratar valores \"Não Informado\" como nulos\n",
    "df_clean = df_clean.withColumn(\"categoria_escola_privada\", \n",
    "    when(col(\"categoria_escola_privada\") == \"Não Informado\", None)\n",
    "    .otherwise(col(\"categoria_escola_privada\"))\n",
    ")\n",
    "\n",
    "# Filtrar apenas escolas com coordenadas válidas\n",
    "df_clean = df_clean.filter(\n",
    "    col(\"latitude\").isNotNull() & \n",
    "    col(\"longitude\").isNotNull() &\n",
    "    (col(\"latitude\") != 0) & \n",
    "    (col(\"longitude\") != 0)\n",
    ")\n",
    "\n",
    "print(f\"=== DADOS APÓS LIMPEZA ===\")\n",
    "print(f\"Registros válidos: {df_clean.count():,}\")\n",
    "print(f\"Registros removidos: {df.count() - df_clean.count():,}\")\n"
   ]
  },
  {
   "cell_type": "code",
   "execution_count": 5,
   "id": "8457c27d",
   "metadata": {},
   "outputs": [
    {
     "name": "stdout",
     "output_type": "stream",
     "text": [
      "=== COLUNAS DERIVADAS CRIADAS ===\n",
      "Colunas adicionadas:\n",
      "- num_etapas: número de etapas/modalidades oferecidas\n",
      "- porte_numerico: porte da escola (1=Pequeno, 2=Médio, 3=Grande)\n",
      "- is_rural: flag para escolas rurais (1=Rural, 0=Urbana)\n",
      "- is_publica: flag para escolas públicas (1=Pública, 0=Privada)\n",
      "- regiao: região do Brasil baseada na UF\n"
     ]
    }
   ],
   "source": [
    "# === CRIAÇÃO DE COLUNAS DERIVADAS PARA ANÁLISES ===\n",
    "\n",
    "# 1. Contar número de etapas/modalidades oferecidas\n",
    "df_clean = df_clean.withColumn(\"etapas_list\", \n",
    "    split(regexp_replace(col(\"etapas_modalidades\"), r\",\\\\s*\", \",\"), \",\")\n",
    ").withColumn(\"num_etapas\", size(col(\"etapas_list\")))\n",
    "\n",
    "# 2. Mapear porte da escola para valores numéricos\n",
    "def map_porte_to_numeric(porte):\n",
    "    if porte is None:\n",
    "        return None\n",
    "    porte_lower = porte.lower().strip()\n",
    "    if \"pequeno\" in porte_lower or \"até 50\" in porte_lower:\n",
    "        return 1\n",
    "    elif \"médio\" in porte_lower or \"51\" in porte_lower or \"201\" in porte_lower or \"501\" in porte_lower:\n",
    "        return 2\n",
    "    elif \"grande\" in porte_lower or \"1000\" in porte_lower:\n",
    "        return 3\n",
    "    else:\n",
    "        return None\n",
    "\n",
    "from pyspark.sql.functions import udf\n",
    "from pyspark.sql.types import IntegerType\n",
    "\n",
    "map_porte_udf = udf(map_porte_to_numeric, IntegerType())\n",
    "df_clean = df_clean.withColumn(\"porte_numerico\", map_porte_udf(col(\"porte_escola\")))\n",
    "\n",
    "# 3. Criar flag para escolas rurais vs urbanas\n",
    "df_clean = df_clean.withColumn(\"is_rural\", \n",
    "    when(col(\"localizacao\") == \"Rural\", 1).otherwise(0)\n",
    ")\n",
    "\n",
    "# 4. Criar flag para escolas públicas vs privadas\n",
    "df_clean = df_clean.withColumn(\"is_publica\", \n",
    "    when(col(\"dependencia_administrativa\").isin([\"Estadual\", \"Municipal\", \"Federal\"]), 1)\n",
    "    .otherwise(0)\n",
    ")\n",
    "\n",
    "# 5. Extrair região do Brasil baseada na UF\n",
    "def get_regiao(uf):\n",
    "    regioes = {\n",
    "        'AC': 'Norte', 'AM': 'Norte', 'AP': 'Norte', 'PA': 'Norte', 'RO': 'Norte', 'RR': 'Norte', 'TO': 'Norte',\n",
    "        'AL': 'Nordeste', 'BA': 'Nordeste', 'CE': 'Nordeste', 'MA': 'Nordeste', 'PB': 'Nordeste', \n",
    "        'PE': 'Nordeste', 'PI': 'Nordeste', 'RN': 'Nordeste', 'SE': 'Nordeste',\n",
    "        'DF': 'Centro-Oeste', 'GO': 'Centro-Oeste', 'MT': 'Centro-Oeste', 'MS': 'Centro-Oeste',\n",
    "        'ES': 'Sudeste', 'MG': 'Sudeste', 'RJ': 'Sudeste', 'SP': 'Sudeste',\n",
    "        'PR': 'Sul', 'RS': 'Sul', 'SC': 'Sul'\n",
    "    }\n",
    "    return regioes.get(uf, 'Outro')\n",
    "\n",
    "get_regiao_udf = udf(get_regiao, StringType())\n",
    "df_clean = df_clean.withColumn(\"regiao\", get_regiao_udf(col(\"uf\")))\n",
    "\n",
    "print(\"=== COLUNAS DERIVADAS CRIADAS ===\")\n",
    "print(\"Colunas adicionadas:\")\n",
    "print(\"- num_etapas: número de etapas/modalidades oferecidas\")\n",
    "print(\"- porte_numerico: porte da escola (1=Pequeno, 2=Médio, 3=Grande)\")\n",
    "print(\"- is_rural: flag para escolas rurais (1=Rural, 0=Urbana)\")\n",
    "print(\"- is_publica: flag para escolas públicas (1=Pública, 0=Privada)\")\n",
    "print(\"- regiao: região do Brasil baseada na UF\")\n"
   ]
  },
  {
   "cell_type": "code",
   "execution_count": null,
   "id": "f170f2ec",
   "metadata": {},
   "outputs": [
    {
     "name": "stdout",
     "output_type": "stream",
     "text": [
      "=== DADOS FINAIS PARA ANÁLISE ===\n"
     ]
    },
    {
     "name": "stderr",
     "output_type": "stream",
     "text": [
      "                                                                                \r"
     ]
    },
    {
     "name": "stdout",
     "output_type": "stream",
     "text": [
      "Total de registros: 156,423\n",
      "Colunas selecionadas: 16\n",
      "\n",
      "Colunas incluídas:\n",
      "- codigo_inep\n",
      "- nome_escola\n",
      "- uf\n",
      "- municipio\n",
      "- regiao\n",
      "- localizacao\n",
      "- is_rural\n",
      "- dependencia_administrativa\n",
      "- is_publica\n",
      "- porte_escola\n",
      "- porte_numerico\n",
      "- etapas_modalidades\n",
      "- num_etapas\n",
      "- latitude\n",
      "- longitude\n",
      "- restricao_atendimento\n"
     ]
    },
    {
     "name": "stderr",
     "output_type": "stream",
     "text": [
      "25/09/29 20:30:10 WARN MemoryManager: Total allocation exceeds 95,00% (1.020.054.720 bytes) of heap memory\n",
      "Scaling row group sizes to 95,00% for 8 writers\n",
      "[Stage 23:=============================>                            (4 + 4) / 8]\r"
     ]
    },
    {
     "name": "stdout",
     "output_type": "stream",
     "text": [
      "\n",
      "=== DADOS SALVOS COM SUCESSO ===\n",
      "Arquivo salvo: processed/escolas_silver.parquet\n",
      "Dados prontos para análise no notebook Gold!\n"
     ]
    },
    {
     "name": "stderr",
     "output_type": "stream",
     "text": [
      "                                                                                \r"
     ]
    }
   ],
   "source": [
    "# === SELEÇÃO DE COLUNAS E SALVAMENTO DOS DADOS TRATADOS ===\n",
    "\n",
    "# Selecionar apenas as colunas necessárias para as análises gráficas\n",
    "colunas_analise = [\n",
    "    \"codigo_inep\", \"nome_escola\", \"uf\", \"municipio\", \"regiao\",\n",
    "    \"localizacao\", \"is_rural\", \"dependencia_administrativa\", \"is_publica\",\n",
    "    \"porte_escola\", \"porte_numerico\", \"etapas_modalidades\", \"num_etapas\",\n",
    "    \"latitude\", \"longitude\", \"restricao_atendimento\"\n",
    "]\n",
    "\n",
    "df_final = df_clean.select(*colunas_analise)\n",
    "\n",
    "print(\"=== DADOS FINAIS PARA ANÁLISE ===\")\n",
    "print(f\"Total de registros: {df_final.count():,}\")\n",
    "print(f\"Colunas selecionadas: {len(colunas_analise)}\")\n",
    "print(\"\\nColunas incluídas:\")\n",
    "for col in colunas_analise:\n",
    "    print(f\"- {col}\")\n",
    "\n",
    "# Salvar dados tratados (Silver Layer)\n",
    "df_final.write.mode(\"overwrite\").parquet(\"escolas_silver.parquet\")\n",
    "\n",
    "print(\"\\n=== DADOS SALVOS COM SUCESSO ===\")\n",
    "print(\"Arquivo salvo: escolas_silver.parquet\")\n",
    "print(\"Dados prontos para análise no notebook Gold!\")\n"
   ]
  },
  {
   "cell_type": "code",
   "execution_count": 9,
   "id": "8fc15e53",
   "metadata": {},
   "outputs": [],
   "source": [
    "from pyspark.sql.functions import split, size, coalesce, lit, col, udf\n",
    "from pyspark.sql.types import IntegerType\n",
    "\n",
    "# Usar o DataFrame já processado (df_final) em vez de df original\n",
    "df = df_final\n",
    "\n",
    "df = df.withColumn(\"etapas_list\", split(col(\"etapas_modalidades\"), r\"[;,]\"))\n",
    "df = df.withColumn(\"count_etapas\", size(col(\"etapas_list\")))\n",
    "\n",
    "mapping_porte = {\"Pequeno\":1, \"Médio\":2, \"Grande\":3}\n",
    "\n",
    "# UDF simples\n",
    "def map_porte(v):\n",
    "    if v is None: return None\n",
    "    v = v.strip().title()\n",
    "    return mapping_porte.get(v, None)\n",
    "\n",
    "map_porte_udf = udf(map_porte, IntegerType())\n",
    "df = df.withColumn(\"porte_num\", map_porte_udf(col(\"porte_escola\")))\n"
   ]
  }
 ],
 "metadata": {
  "kernelspec": {
   "display_name": "venv_inep",
   "language": "python",
   "name": "python3"
  },
  "language_info": {
   "codemirror_mode": {
    "name": "ipython",
    "version": 3
   },
   "file_extension": ".py",
   "mimetype": "text/x-python",
   "name": "python",
   "nbconvert_exporter": "python",
   "pygments_lexer": "ipython3",
   "version": "3.12.3"
  }
 },
 "nbformat": 4,
 "nbformat_minor": 5
}
